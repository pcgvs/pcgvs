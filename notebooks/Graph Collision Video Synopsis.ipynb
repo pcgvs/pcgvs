{
 "cells": [
  {
   "cell_type": "code",
   "execution_count": 1,
   "metadata": {},
   "outputs": [],
   "source": [
    "import numpy as np\n",
    "import matplotlib.pyplot as plt\n",
    "\n",
    "\n",
    "class Tube: \n",
    "    \n",
    "    def __init__(self, tag, sframe, eframe):\n",
    "        self.tag = tag\n",
    "        self.sframe = sframe \n",
    "        self.eframe = eframe \n",
    "        self.posX = []\n",
    "        self.posY = []\n",
    "\n",
    "    def __len__(self):\n",
    "        return len(self.posX)\n",
    "        \n",
    "    def add_position(self, x, y):\n",
    "        self.posX.append(x)\n",
    "        self.posY.append(y)\n",
    "\n",
    "    def __iter__(self):\n",
    "        self.currframe = 0\n",
    "        return self\n",
    "\n",
    "    def __next__(self):\n",
    "        if self.currframe < len(self.posX):\n",
    "            frame = self.sframe + self.currframe\n",
    "            x = self.posX[self.currframe]\n",
    "            y = self.posY[self.currframe]\n",
    "            self.currframe += 1\n",
    "            return x, y, frame\n",
    "        else:\n",
    "            raise StopIteration\n",
    "    \n",
    "    def __str__(self):\n",
    "        return self.tag\n",
    "    \n",
    "    def plot(self):\n",
    "        plt.scatter(self.posX, self.posY, s=100, label=self.tag)\n",
    "        "
   ]
  },
  {
   "cell_type": "code",
   "execution_count": 71,
   "metadata": {},
   "outputs": [],
   "source": [
    "from itertools import permutations\n",
    "\n",
    "class Overlapping:\n",
    "    def __init__(self, start, end):\n",
    "        self.sframe = start\n",
    "        self.eframe = end\n",
    "    def __str__(self):\n",
    "        return 'OVL'\n",
    "\n",
    "class Intersection:\n",
    "    def __init__(self, frame):\n",
    "        self.frame = frame\n",
    "    def __str__(self):\n",
    "        return 'INT'\n",
    "        \n",
    "class RelationsMap:\n",
    "    def __init__(self, tubes):\n",
    "        self.tubes = tubes\n",
    "        self.relations = {}\n",
    "        for Ta in tubes:\n",
    "            self.relations[Ta.tag] = {}\n",
    "            for Tb in tubes:\n",
    "                self.relations[Ta.tag][Tb.tag] = None\n",
    "\n",
    "    def compute(self):        \n",
    "        for Ta, Tb in permutations(self.tubes, 2):\n",
    "            if Ta == Tb: continue\n",
    "            # we focus on tube A and check the\n",
    "            # intersections with Tube B. \n",
    "            f_inter = None\n",
    "            l_inter  = None\n",
    "            for xa, ya, frame in Ta:\n",
    "                for xb, yb, _ in Tb:\n",
    "                    d = np.linalg.norm([xa-xb, ya-yb]) \n",
    "                    if d < 10:\n",
    "                        f_inter = frame if f_inter is None else f_inter\n",
    "                        l_inter = frame\n",
    "            # In this case, there isn't interaction.\n",
    "            if l_inter is None: continue\n",
    "            # Following the paper recommendations, we \n",
    "            # set the interaction as overlapping if there \n",
    "            # are more than 5 intersecting frames. \n",
    "            self.relations[Ta.tag][Tb.tag] = Intersection(f_inter) \\\n",
    "                if l_inter - f_inter < 5 \\\n",
    "                else Overlapping(f_inter, l_inter)\n",
    "              \n",
    "                    \n",
    "    def __str__(self):\n",
    "        out = \"\"\n",
    "        for k1 in self.relations.keys():\n",
    "            out += f'[{k1}]:\\t'\n",
    "            for k2 in self.relations.keys():\n",
    "                out += f'({k2}){self.relations[k1][k2]}\\t'\n",
    "            out += '\\n'\n",
    "        return out"
   ]
  },
  {
   "cell_type": "code",
   "execution_count": 72,
   "metadata": {},
   "outputs": [
    {
     "data": {
      "image/png": "[encoded data removed]",
      "text/plain": [
       "<Figure size 432x288 with 1 Axes>"
      ]
     },
     "metadata": {
      "needs_background": "light"
     },
     "output_type": "display_data"
    }
   ],
   "source": [
    "import numpy as np\n",
    "from matplotlib import pyplot as plt\n",
    "\n",
    "tube_1 = Tube('1',  0, 100//3)\n",
    "tube_1.posX = np.arange(0, 100, 3)\n",
    "tube_1.posY = [ 1/2 * 2 * (x**2) for x in tube_1.posX ]\n",
    "\n",
    "tube_2 = Tube('2', 0, 100//3)\n",
    "tube_2.posX = np.arange(0, 100, 3)\n",
    "tube_2.posY = np.flip(tube_1.posY)\n",
    "\n",
    "tube_3 = Tube('3', 20, 40)\n",
    "tube_3.posX = np.arange(20, 80, 3)\n",
    "tube_3.posY = np.full(len(tube_3.posX), 8000)\n",
    "\n",
    "tube_4 = Tube('4', 20, 40)\n",
    "tube_4.posX = np.arange(20, 80, 3)\n",
    "tube_4.posY = np.concatenate((np.full(10, 8000), np.arange(8000, 9000, step=100)))\n",
    "\n",
    "tube_1.plot()\n",
    "tube_2.plot()\n",
    "tube_3.plot()\n",
    "tube_4.plot()"
   ]
  },
  {
   "cell_type": "code",
   "execution_count": 73,
   "metadata": {},
   "outputs": [
    {
     "name": "stdout",
     "output_type": "stream",
     "text": [
      "[1]:\t(1)None\t(2)INT\t(3)None\t(4)None\t\n",
      "[2]:\t(1)INT\t(2)None\t(3)None\t(4)None\t\n",
      "[3]:\t(1)None\t(2)None\t(3)None\t(4)OVL\t\n",
      "[4]:\t(1)None\t(2)None\t(3)OVL\t(4)None\t\n",
      "\n"
     ]
    }
   ],
   "source": [
    "rmap = RelationsMap([tube_1, tube_2, tube_3, tube_4])\n",
    "#rmap.compute()\n",
    "rmap.compute()\n",
    "print(rmap)"
   ]
  },
  {
   "cell_type": "code",
   "execution_count": 74,
   "metadata": {},
   "outputs": [
    {
     "name": "stdout",
     "output_type": "stream",
     "text": [
      "20 33\n",
      "20 30\n",
      "15\n",
      "15\n"
     ]
    }
   ],
   "source": [
    "print(rmap.relations['3']['4'].sframe, rmap.relations['3']['4'].eframe)\n",
    "print(rmap.relations['4']['3'].sframe, rmap.relations['4']['3'].eframe)\n",
    "print(rmap.relations['1']['2'].frame)\n",
    "print(rmap.relations['2']['1'].frame)"
   ]
  },
  {
   "cell_type": "code",
   "execution_count": null,
   "metadata": {},
   "outputs": [],
   "source": [
    "class IsolatedMainNode:\n",
    "    def __init__(self, tube):\n",
    "        self.tube = tube\n",
    "\n",
    "class SubNode:\n",
    "    def __init__(self, tube):\n",
    "        self.tube = tube\n",
    "\n",
    "\n",
    "class PCG:\n",
    "    \"\"\" Potential Collision Graph\n",
    "    \"\"\"\n",
    "    \n",
    "        \n",
    "    @classmethod\n",
    "    def from_tubes_rmap(tubes, rmap):\n",
    "        \n",
    "    \n",
    "    \n",
    "    "
   ]
  }
 ],
 "metadata": {
  "kernelspec": {
   "display_name": "Python 3",
   "language": "python",
   "name": "python3"
  },
  "language_info": {
   "codemirror_mode": {
    "name": "ipython",
    "version": 3
   },
   "file_extension": ".py",
   "mimetype": "text/x-python",
   "name": "python",
   "nbconvert_exporter": "python",
   "pygments_lexer": "ipython3",
   "version": "3.8.5"
  }
 },
 "nbformat": 4,
 "nbformat_minor": 5
}
