{
 "cells": [
  {
   "cell_type": "markdown",
   "id": "2531769e",
   "metadata": {},
   "source": [
    "# Tube rearrangement\n",
    "\n",
    "Import the output file from the **tube extraction** stage:"
   ]
  },
  {
   "cell_type": "code",
   "execution_count": 1,
   "id": "896e6232",
   "metadata": {},
   "outputs": [
    {
     "data": {
      "text/html": [
       "<div>\n",
       "<style scoped>\n",
       "    .dataframe tbody tr th:only-of-type {\n",
       "        vertical-align: middle;\n",
       "    }\n",
       "\n",
       "    .dataframe tbody tr th {\n",
       "        vertical-align: top;\n",
       "    }\n",
       "\n",
       "    .dataframe thead th {\n",
       "        text-align: right;\n",
       "    }\n",
       "</style>\n",
       "<table border=\"1\" class=\"dataframe\">\n",
       "  <thead>\n",
       "    <tr style=\"text-align: right;\">\n",
       "      <th></th>\n",
       "      <th>frame</th>\n",
       "      <th>tag</th>\n",
       "      <th>x</th>\n",
       "      <th>y</th>\n",
       "      <th>w</th>\n",
       "      <th>h</th>\n",
       "    </tr>\n",
       "  </thead>\n",
       "  <tbody>\n",
       "    <tr>\n",
       "      <th>0</th>\n",
       "      <td>4</td>\n",
       "      <td>1</td>\n",
       "      <td>592</td>\n",
       "      <td>553</td>\n",
       "      <td>37</td>\n",
       "      <td>39</td>\n",
       "    </tr>\n",
       "    <tr>\n",
       "      <th>1</th>\n",
       "      <td>5</td>\n",
       "      <td>1</td>\n",
       "      <td>592</td>\n",
       "      <td>553</td>\n",
       "      <td>37</td>\n",
       "      <td>39</td>\n",
       "    </tr>\n",
       "    <tr>\n",
       "      <th>2</th>\n",
       "      <td>5</td>\n",
       "      <td>2</td>\n",
       "      <td>593</td>\n",
       "      <td>554</td>\n",
       "      <td>35</td>\n",
       "      <td>38</td>\n",
       "    </tr>\n",
       "    <tr>\n",
       "      <th>3</th>\n",
       "      <td>6</td>\n",
       "      <td>1</td>\n",
       "      <td>591</td>\n",
       "      <td>554</td>\n",
       "      <td>38</td>\n",
       "      <td>39</td>\n",
       "    </tr>\n",
       "    <tr>\n",
       "      <th>4</th>\n",
       "      <td>7</td>\n",
       "      <td>1</td>\n",
       "      <td>592</td>\n",
       "      <td>555</td>\n",
       "      <td>36</td>\n",
       "      <td>38</td>\n",
       "    </tr>\n",
       "    <tr>\n",
       "      <th>5</th>\n",
       "      <td>7</td>\n",
       "      <td>2</td>\n",
       "      <td>590</td>\n",
       "      <td>554</td>\n",
       "      <td>39</td>\n",
       "      <td>40</td>\n",
       "    </tr>\n",
       "    <tr>\n",
       "      <th>6</th>\n",
       "      <td>8</td>\n",
       "      <td>1</td>\n",
       "      <td>590</td>\n",
       "      <td>554</td>\n",
       "      <td>39</td>\n",
       "      <td>40</td>\n",
       "    </tr>\n",
       "    <tr>\n",
       "      <th>7</th>\n",
       "      <td>8</td>\n",
       "      <td>2</td>\n",
       "      <td>589</td>\n",
       "      <td>554</td>\n",
       "      <td>40</td>\n",
       "      <td>40</td>\n",
       "    </tr>\n",
       "    <tr>\n",
       "      <th>8</th>\n",
       "      <td>9</td>\n",
       "      <td>1</td>\n",
       "      <td>590</td>\n",
       "      <td>554</td>\n",
       "      <td>39</td>\n",
       "      <td>40</td>\n",
       "    </tr>\n",
       "    <tr>\n",
       "      <th>9</th>\n",
       "      <td>9</td>\n",
       "      <td>2</td>\n",
       "      <td>589</td>\n",
       "      <td>554</td>\n",
       "      <td>40</td>\n",
       "      <td>40</td>\n",
       "    </tr>\n",
       "  </tbody>\n",
       "</table>\n",
       "</div>"
      ],
      "text/plain": [
       "   frame  tag    x    y   w   h\n",
       "0      4    1  592  553  37  39\n",
       "1      5    1  592  553  37  39\n",
       "2      5    2  593  554  35  38\n",
       "3      6    1  591  554  38  39\n",
       "4      7    1  592  555  36  38\n",
       "5      7    2  590  554  39  40\n",
       "6      8    1  590  554  39  40\n",
       "7      8    2  589  554  40  40\n",
       "8      9    1  590  554  39  40\n",
       "9      9    2  589  554  40  40"
      ]
     },
     "execution_count": 1,
     "metadata": {},
     "output_type": "execute_result"
    }
   ],
   "source": [
    "from os import path, getcwd\n",
    "from pcgvs.extraction import load_tubes_with_pandas\n",
    "\n",
    "# Generating an OS safe path.\n",
    "p = path.join(getcwd(), 'synopsis')\n",
    "p = path.join(p, 'tubes')\n",
    "p = path.join(p, 'exp')\n",
    "p = path.join(p, 'tracks')\n",
    "p = path.join(p, 'video-1-raw.txt')\n",
    "\n",
    "dataframe = load_tubes_with_pandas(p)\n",
    "dataframe.head(10)"
   ]
  },
  {
   "cell_type": "markdown",
   "id": "89187a9e",
   "metadata": {},
   "source": [
    "Transform the dataframe to a list of Tube objects (see specifications at `pcgvs.extraction.Tube`) "
   ]
  },
  {
   "cell_type": "code",
   "execution_count": 2,
   "id": "9dfd8326",
   "metadata": {},
   "outputs": [
    {
     "name": "stdout",
     "output_type": "stream",
     "text": [
      "tube of object 1 starts at frame 4 and end at frame 14\n",
      "tube of object 2 starts at frame 5 and end at frame 61\n",
      "tube of object 3 starts at frame 44 and end at frame 92\n",
      "tube of object 7 starts at frame 58 and end at frame 64\n",
      "tube of object 13 starts at frame 146 and end at frame 204\n",
      "tube of object 16 starts at frame 152 and end at frame 163\n",
      "tube of object 18 starts at frame 192 and end at frame 245\n",
      "tube of object 22 starts at frame 203 and end at frame 208\n",
      "tube of object 27 starts at frame 372 and end at frame 439\n",
      "tube of object 28 starts at frame 372 and end at frame 435\n",
      "tube of object 29 starts at frame 391 and end at frame 441\n",
      "tube of object 36 starts at frame 433 and end at frame 438\n"
     ]
    }
   ],
   "source": [
    "from pcgvs.extraction import load_tubes_from_pandas_dataframe\n",
    "\n",
    "tubes = load_tubes_from_pandas_dataframe(dataframe)\n",
    "\n",
    "for tube in tubes:\n",
    "    print(f'tube of object {tube.tag} starts at frame {tube.sframe} and end at frame {tube.eframe}')"
   ]
  },
  {
   "cell_type": "markdown",
   "id": "c519e8ed",
   "metadata": {},
   "source": [
    "We use the tube rearrangement algorithm from [He Et al.](https://www.sciencedirect.com/science/article/pii/S0925231216313406) along with some of the optimizations proposed in [Allegra Et al.](https://ieeexplore.ieee.org/document/8803795).\n",
    "\n",
    "The first step of the algorithm consist in computing the relations between the tubes. The relation between two generic tubes $T_1$ and $T_2$ can be one of the following:\n",
    "\n",
    "- Irrilevant relation (`None`): the tubes trajectories doesn't intersect\n",
    "- Intersecting relation (`INT`): the tubes trajectories intersect in some frames\n",
    "- Overlapping relation (`OVL`): the tubes trajectories overlap in a long sequence of frames\n",
    "\n",
    "In order to distinguish the intersection and the overlapping, the paper specify a threshold set to 5 frames, meaning that if the frames overlaps for more than 5 consecutive frames, then it's an overlapping relation, otherwise it's an intersecting relation."
   ]
  },
  {
   "cell_type": "code",
   "execution_count": 3,
   "id": "8dfc7c66",
   "metadata": {},
   "outputs": [
    {
     "name": "stderr",
     "output_type": "stream",
     "text": [
      "100%|███████████████████████████████████████████████████████████████████████████████| 132/132 [00:00<00:00, 168.96it/s]"
     ]
    },
    {
     "name": "stdout",
     "output_type": "stream",
     "text": [
      "[1]:\t(1)None\t(2)OVL\t(3)None\t(7)None\t(13)OVL\t(16)OVL\t(18)None\t(22)None\t(27)OVL\t(28)OVL\t(29)None\t(36)None\t\n",
      "[2]:\t(1)OVL\t(2)None\t(3)None\t(7)OVL\t(13)OVL\t(16)OVL\t(18)None\t(22)OVL\t(27)OVL\t(28)OVL\t(29)None\t(36)OVL\t\n",
      "[3]:\t(1)None\t(2)None\t(3)None\t(7)None\t(13)None\t(16)None\t(18)OVL\t(22)None\t(27)None\t(28)None\t(29)OVL\t(36)None\t\n",
      "[7]:\t(1)None\t(2)OVL\t(3)None\t(7)None\t(13)OVL\t(16)None\t(18)None\t(22)OVL\t(27)None\t(28)OVL\t(29)None\t(36)OVL\t\n",
      "[13]:\t(1)OVL\t(2)OVL\t(3)None\t(7)OVL\t(13)None\t(16)OVL\t(18)None\t(22)OVL\t(27)OVL\t(28)OVL\t(29)None\t(36)OVL\t\n",
      "[16]:\t(1)OVL\t(2)OVL\t(3)None\t(7)None\t(13)OVL\t(16)None\t(18)None\t(22)None\t(27)OVL\t(28)OVL\t(29)None\t(36)None\t\n",
      "[18]:\t(1)None\t(2)None\t(3)OVL\t(7)None\t(13)None\t(16)None\t(18)None\t(22)None\t(27)None\t(28)None\t(29)OVL\t(36)None\t\n",
      "[22]:\t(1)None\t(2)OVL\t(3)None\t(7)OVL\t(13)OVL\t(16)None\t(18)None\t(22)None\t(27)None\t(28)OVL\t(29)None\t(36)OVL\t\n",
      "[27]:\t(1)OVL\t(2)OVL\t(3)None\t(7)None\t(13)OVL\t(16)OVL\t(18)None\t(22)None\t(27)None\t(28)OVL\t(29)None\t(36)INT\t\n",
      "[28]:\t(1)OVL\t(2)OVL\t(3)None\t(7)OVL\t(13)OVL\t(16)OVL\t(18)None\t(22)OVL\t(27)OVL\t(28)None\t(29)None\t(36)OVL\t\n",
      "[29]:\t(1)None\t(2)None\t(3)OVL\t(7)None\t(13)None\t(16)None\t(18)OVL\t(22)None\t(27)None\t(28)None\t(29)None\t(36)None\t\n",
      "[36]:\t(1)None\t(2)OVL\t(3)None\t(7)OVL\t(13)OVL\t(16)None\t(18)None\t(22)OVL\t(27)INT\t(28)OVL\t(29)None\t(36)None\t\n",
      "\n"
     ]
    },
    {
     "name": "stderr",
     "output_type": "stream",
     "text": [
      "\n"
     ]
    }
   ],
   "source": [
    "from pcgvs.aggregation.relations import RelationsMap\n",
    "\n",
    "relations = RelationsMap(tubes)\n",
    "\n",
    "print(relations)"
   ]
  },
  {
   "cell_type": "markdown",
   "id": "77d6b9de",
   "metadata": {},
   "source": [
    "From the relation map, we need to compute the Potential Collision Graph. This graph is composed by two types of nodes: \n",
    "\n",
    "- main-node (m-node): representing a tube\n",
    "- sub-node (s-node): representing a potential collision between two tubes\n",
    "\n",
    "The following is a summary of how the nodes are generated from the relations map: \n",
    "\n",
    "- We generate a m-node for each tube\n",
    "- For each intersection between $T_1$ and $T_2$: \n",
    "    - we generate a s-node in $T_1$ containing the frame of intersection from $T_1$\n",
    "    - we generate a s-node in $T_2$ containing the frame of intersection from $T_2$\n",
    "- For each overlapping between $T_1$ and $T_2$:\n",
    "    - we generate two s-node in $T_1$, one for the starting frame and one for the ending frame\n",
    "    - we generate two s-node in $T_2$, one for the starting frame and one for the ending frame\n",
    "\n",
    "After the node generation step, we need to wire the nodes with edges. The process is summarized as follows: \n",
    "\n",
    "- For each intersection: \n",
    "    - add an edge weighted 1 between the two s-nodes\n",
    "- For each overlapping: \n",
    "    - add a directed edge between the starting and ending node weighted using $\\Delta t$\n",
    "    - add an edge between the starting nodes of $T_1$ and $T_2$ weighted -1\n",
    "    - add an edge between the ending nodes of $T_1$ and $T_2$ weighted -1\n",
    "    \n",
    "> With $\\Delta t$ we refer to the difference in frames between the end and the start of the collision"
   ]
  },
  {
   "cell_type": "code",
   "execution_count": 4,
   "id": "dd096c5e",
   "metadata": {},
   "outputs": [],
   "source": [
    "from pcgvs.aggregation.graph import PCG\n",
    "\n",
    "pcg = PCG(tubes, relations)"
   ]
  },
  {
   "cell_type": "markdown",
   "id": "8ec26604",
   "metadata": {},
   "source": [
    "We use the graph coloring technique from He Et al. paper, based on a mix between the DSATUR algorithm and the RFL algorithm, adapted for the L(q)-coloring problem. \n",
    "\n",
    "A brief description of the algorithm is presented here: \n",
    "\n",
    "1. Set the initial color $c=1$\n",
    "2. Let $U$ be the list of the uncolored nodes\n",
    "3. Compute the saturation values (see eq. (2) from He Et al.)\n",
    "3. Order $U$ by saturation values\n",
    "4. For each node $v \\in U$ check if the coloring conditions are met (see Cond.1 and Cond.2 from He Et al.)\n",
    "    1. If the conditions are met, color the node with $c$\n",
    "    2. If the node is generated from an overlapping, color the directly connected node with $c \\pm \\Delta t$ (the sign is determined by the direction) \n",
    "5. Increase $c = c+1$ and repeat the process from step 2. until $U = \\emptyset$\n",
    "\n",
    "Check the saturation computation at `pcgvs.aggregation.coloring.SaturationCache`.\n",
    "\n",
    "A suggested q value (q=3) for cars is proposed by the authors, so we set the parameter here:"
   ]
  },
  {
   "cell_type": "code",
   "execution_count": 5,
   "id": "ed1019ff",
   "metadata": {},
   "outputs": [],
   "source": [
    "q=3"
   ]
  },
  {
   "cell_type": "code",
   "execution_count": 6,
   "id": "2588ccdc",
   "metadata": {},
   "outputs": [
    {
     "name": "stdout",
     "output_type": "stream",
     "text": [
      "Coloring node 2-1-s to 1\n",
      "Coloring node 2-1-e to 102\n",
      "Coloring node 2-7-s to 1\n",
      "Coloring node 2-7-e to 56\n",
      "Coloring node 2-13-s to 1\n",
      "Coloring node 2-13-e to 108\n",
      "Coloring node 2-16-s to 1\n",
      "Coloring node 2-16-e to 102\n",
      "Coloring node 2-22-s to 1\n",
      "Coloring node 2-22-e to 30\n",
      "Coloring node 2-27-s to 1\n",
      "Coloring node 2-27-e to 108\n",
      "Coloring node 2-28-s to 1\n",
      "Coloring node 2-28-e to 108\n",
      "Coloring node 2-36-s to 1\n",
      "Coloring node 2-36-e to 86\n",
      "Coloring node 13-1-s to 1\n",
      "Coloring node 13-1-e to 114\n",
      "Coloring node 13-7-s to 1\n",
      "Coloring node 13-7-e to 46\n",
      "Coloring node 13-16-s to 1\n",
      "Coloring node 13-16-e to 116\n",
      "Coloring node 13-22-s to 1\n",
      "Coloring node 13-22-e to 26\n",
      "Coloring node 13-27-s to 1\n",
      "Coloring node 13-27-e to 118\n",
      "Coloring node 13-28-s to 1\n",
      "Coloring node 13-28-e to 118\n",
      "Coloring node 13-36-s to 1\n",
      "Coloring node 13-36-e to 64\n",
      "Coloring node 3-18-s to 1\n",
      "Coloring node 3-18-e to 88\n",
      "Coloring node 3-29-s to 1\n",
      "Coloring node 3-29-e to 88\n",
      "Coloring node 18-29-s to 1\n",
      "Coloring node 18-29-e to 92\n",
      "Coloring node 27-1-s to 1\n",
      "Coloring node 27-1-e to 42\n",
      "Coloring node 27-16-s to 1\n",
      "Coloring node 27-16-e to 42\n",
      "Coloring node 27-28-s to 1\n",
      "Coloring node 27-28-e to 42\n",
      "Coloring node 27-36 to 1\n",
      "Coloring node 28-1-s to 1\n",
      "Coloring node 28-1-e to 110\n",
      "Coloring node 28-7-s to 1\n",
      "Coloring node 28-7-e to 50\n",
      "Coloring node 28-16-s to 1\n",
      "Coloring node 28-16-e to 112\n",
      "Coloring node 28-22-s to 1\n",
      "Coloring node 28-22-e to 32\n",
      "Coloring node 28-36-s to 1\n",
      "Coloring node 28-36-e to 72\n",
      "Coloring node 1-16-s to 1\n",
      "Coloring node 1-16-e to 20\n",
      "Coloring node 7-22-s to 1\n",
      "Coloring node 7-22-e to 12\n",
      "Coloring node 7-36-s to 1\n",
      "Coloring node 7-36-e to 12\n",
      "Coloring node 22-36-s to 1\n",
      "Coloring node 22-36-e to 10\n",
      "Coloring node 13-2-s to 2\n",
      "Coloring node 13-2-e to 119\n",
      "Coloring node 18-3-s to 2\n",
      "Coloring node 18-3-e to 93\n",
      "Coloring node 28-2-s to 2\n",
      "Coloring node 28-2-e to 119\n",
      "Coloring node 28-13-s to 2\n",
      "Coloring node 28-13-e to 119\n",
      "Coloring node 28-27-s to 2\n",
      "Coloring node 28-27-e to 119\n",
      "Coloring node 16-1-s to 2\n",
      "Coloring node 16-1-e to 21\n",
      "Coloring node 29-3-s to 2\n",
      "Coloring node 29-3-e to 97\n",
      "Coloring node 29-18-s to 2\n",
      "Coloring node 29-18-e to 97\n",
      "Coloring node 36-7-s to 2\n",
      "Coloring node 36-7-e to 13\n",
      "Coloring node 36-22-s to 2\n",
      "Coloring node 36-22-e to 13\n",
      "Coloring node 22-7-s to 4\n",
      "Coloring node 22-7-e to 13\n",
      "Coloring node 36-27 to 5\n",
      "Coloring node 22-13-s to 18\n",
      "Coloring node 22-13-e to 27\n",
      "Coloring node 22-2-s to 22\n",
      "Coloring node 22-2-e to 31\n",
      "Coloring node 1-27-s to 24\n",
      "Coloring node 1-27-e to 43\n",
      "Coloring node 16-27-s to 24\n",
      "Coloring node 16-27-e to 43\n",
      "Coloring node 22-28-s to 24\n",
      "Coloring node 22-28-e to 33\n",
      "Coloring node 7-13-s to 36\n",
      "Coloring node 7-13-e to 47\n",
      "Coloring node 7-28-s to 40\n",
      "Coloring node 7-28-e to 51\n",
      "Coloring node 7-2-s to 46\n",
      "Coloring node 7-2-e to 57\n",
      "Coloring node 36-13-s to 54\n",
      "Coloring node 36-13-e to 65\n",
      "Coloring node 36-28-s to 62\n",
      "Coloring node 36-28-e to 73\n",
      "Coloring node 27-2-s to 68\n",
      "Coloring node 27-2-e to 109\n",
      "Coloring node 36-2-s to 76\n",
      "Coloring node 36-2-e to 87\n",
      "Coloring node 27-13-s to 78\n",
      "Coloring node 27-13-e to 119\n",
      "Coloring node 1-2-s to 84\n",
      "Coloring node 1-2-e to 103\n",
      "Coloring node 16-2-s to 84\n",
      "Coloring node 16-2-e to 103\n",
      "Coloring node 1-28-s to 92\n",
      "Coloring node 1-28-e to 111\n",
      "Coloring node 16-28-s to 94\n",
      "Coloring node 16-28-e to 113\n",
      "Coloring node 1-13-s to 96\n",
      "Coloring node 1-13-e to 115\n",
      "Coloring node 16-13-s to 98\n",
      "Coloring node 16-13-e to 117\n"
     ]
    }
   ],
   "source": [
    "from pcgvs.aggregation.coloring import color_graph\n",
    "\n",
    "color_graph(pcg, q)"
   ]
  },
  {
   "cell_type": "markdown",
   "id": "548705d6",
   "metadata": {},
   "source": [
    "Then we use the *Condensation optimization* from Allegra Et al. in order to calculate the tubes starting time in the video synopsis: "
   ]
  },
  {
   "cell_type": "code",
   "execution_count": 7,
   "id": "81839135",
   "metadata": {},
   "outputs": [
    {
     "data": {
      "text/plain": [
       "{1: 1,\n",
       " 2: 4,\n",
       " 7: 7,\n",
       " 13: 10,\n",
       " 22: 13,\n",
       " 27: 16,\n",
       " 28: 19,\n",
       " 16: 22,\n",
       " 36: 25,\n",
       " 3: 1,\n",
       " 18: 4,\n",
       " 29: 7}"
      ]
     },
     "execution_count": 7,
     "metadata": {},
     "output_type": "execute_result"
    }
   ],
   "source": [
    "from pcgvs.aggregation.coloring import tubes_starting_time\n",
    "\n",
    "starting_times = tubes_starting_time(pcg, q)\n",
    "starting_times"
   ]
  },
  {
   "cell_type": "markdown",
   "id": "3c6f1722",
   "metadata": {},
   "source": [
    "Later we will use starting times to generate the synopsis. "
   ]
  },
  {
   "cell_type": "code",
   "execution_count": null,
   "id": "5eea4259",
   "metadata": {},
   "outputs": [],
   "source": [
    "import json\n",
    "\n",
    "with open('./synopsis/starting_times.json', 'w') as ssfile:\n",
    "    writablejson = { str(k):v for k, v in starting_times.items() }\n",
    "    json.dump(writablejson, ssfile)"
   ]
  }
 ],
 "metadata": {
  "kernelspec": {
   "display_name": "Python 3 (ipykernel)",
   "language": "python",
   "name": "python3"
  },
  "language_info": {
   "codemirror_mode": {
    "name": "ipython",
    "version": 3
   },
   "file_extension": ".py",
   "mimetype": "text/x-python",
   "name": "python",
   "nbconvert_exporter": "python",
   "pygments_lexer": "ipython3",
   "version": "3.9.7"
  }
 },
 "nbformat": 4,
 "nbformat_minor": 5
}
