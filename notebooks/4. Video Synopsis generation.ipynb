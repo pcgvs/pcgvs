{
 "cells": [
  {
   "cell_type": "markdown",
   "id": "0bedf54e",
   "metadata": {},
   "source": [
    "# Video Synopsis generation"
   ]
  },
  {
   "cell_type": "markdown",
   "id": "80b7a32f",
   "metadata": {},
   "source": [
    "Load the starting times."
   ]
  },
  {
   "cell_type": "code",
   "execution_count": null,
   "id": "d03f2251",
   "metadata": {},
   "outputs": [],
   "source": [
    "import json\n",
    "\n",
    "with open('./synopsis/starting_times.json', 'r') as ssfile:\n",
    "    starting_times = json.load(ssfile)\n",
    "    starting_times = { int(k):v for k, v in starting_times.items() }"
   ]
  },
  {
   "cell_type": "markdown",
   "id": "3d391816",
   "metadata": {},
   "source": [
    "Load the tubes. "
   ]
  },
  {
   "cell_type": "code",
   "execution_count": null,
   "id": "a82aaad0",
   "metadata": {},
   "outputs": [],
   "source": [
    "# Generating an OS safe path.\n",
    "p = path.join(getcwd(), 'synopsis')\n",
    "p = path.join(p, 'tubes')\n",
    "p = path.join(p, 'exp')\n",
    "p = path.join(p, 'tracks')\n",
    "p = path.join(p, 'video-1-raw.txt')\n",
    "\n",
    "dataframe = load_tubes_with_pandas(p)\n",
    "tubes = load_tubes_from_pandas_dataframe(dataframe)"
   ]
  },
  {
   "cell_type": "markdown",
   "id": "1d075523",
   "metadata": {},
   "source": [
    "Add the starting time to the old dataframe."
   ]
  },
  {
   "cell_type": "code",
   "execution_count": null,
   "id": "33707760",
   "metadata": {},
   "outputs": [],
   "source": [
    "df = add_ss_to_dataframe(dataframe, tubes, starting_times)"
   ]
  },
  {
   "cell_type": "markdown",
   "id": "cb17c555",
   "metadata": {},
   "source": [
    "Generate the synopsis."
   ]
  },
  {
   "cell_type": "code",
   "execution_count": null,
   "id": "46097855",
   "metadata": {},
   "outputs": [],
   "source": [
    "from pcgvs.aggregation import add_ss_to_dataframe\n",
    "from pcgvs.synopsis import generate_frames, generate_synopsis\n",
    "\n",
    "\n",
    "frames = generate_frames(df, patches_path)\n",
    "generate_synopsis(frames, o, 30, background_path, interp)\n",
    "print('Video synopsis generated')"
   ]
  }
 ],
 "metadata": {
  "kernelspec": {
   "display_name": "Python 3 (ipykernel)",
   "language": "python",
   "name": "python3"
  },
  "language_info": {
   "codemirror_mode": {
    "name": "ipython",
    "version": 3
   },
   "file_extension": ".py",
   "mimetype": "text/x-python",
   "name": "python",
   "nbconvert_exporter": "python",
   "pygments_lexer": "ipython3",
   "version": "3.9.12"
  }
 },
 "nbformat": 4,
 "nbformat_minor": 5
}
